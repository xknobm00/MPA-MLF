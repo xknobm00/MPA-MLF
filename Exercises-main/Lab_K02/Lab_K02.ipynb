{
 "cells": [
  {
   "cell_type": "markdown",
   "id": "9457fdc4-1690-4c41-8e88-1597fc2a687c",
   "metadata": {
    "id": "9457fdc4-1690-4c41-8e88-1597fc2a687c"
   },
   "source": [
    " # MPA-MLF, Lab 7 - NN + Convolutional Neural Network"
   ]
  },
  {
   "cell_type": "markdown",
   "id": "39df4d20",
   "metadata": {
    "id": "39df4d20"
   },
   "source": [
    "## Exercise 1 - XOR problem"
   ]
  },
  {
   "cell_type": "markdown",
   "id": "de180627",
   "metadata": {
    "id": "de180627"
   },
   "source": [
    "During the last lecture, we saw that the single perceptron model with a step function could be used only for solving linearly-separable classification problems. Because of that, a single perceptron can not be trained to be able to behave like an XOR gate. To approximate the XOR gate using a neural network, we need to use the following structure:"
   ]
  },
  {
   "cell_type": "markdown",
   "id": "dff00fd5",
   "metadata": {
    "id": "dff00fd5"
   },
   "source": [
    "![nn.png](data:image/png;base64,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)"
   ]
  },
  {
   "cell_type": "markdown",
   "id": "8bd44f3b",
   "metadata": {
    "id": "8bd44f3b"
   },
   "source": [
    "The above structure contains three layers: two neurons in the input layer (blue), two in the hidden layer and one in the output layer (yellow). The input layer represents the identity functions (the outputs are equal to the inputs)"
   ]
  },
  {
   "cell_type": "markdown",
   "id": "d7e62181",
   "metadata": {
    "id": "d7e62181"
   },
   "source": [
    "We will use *Keras* API to build and train our neural network. Keras is an open-source neural network library written in Python. It is designed to enable fast experimentation with deep neural networks and provides a high-level API for building and training neural networks."
   ]
  },
  {
   "cell_type": "markdown",
   "id": "145e54b0",
   "metadata": {
    "id": "145e54b0"
   },
   "source": [
    "### 0. First import libraries"
   ]
  },
  {
   "cell_type": "code",
   "execution_count": 1,
   "id": "4bd3aed6",
   "metadata": {
    "executionInfo": {
     "elapsed": 4753,
     "status": "ok",
     "timestamp": 1712130881043,
     "user": {
      "displayName": "Jan Bolcek",
      "userId": "11245949610672084450"
     },
     "user_tz": -120
    },
    "id": "4bd3aed6"
   },
   "outputs": [],
   "source": [
    "from tensorflow.keras.models import Sequential\n",
    "from tensorflow.keras.layers import Dense, InputLayer\n",
    "import tensorflow as tf\n",
    "import matplotlib.pyplot as plt"
   ]
  },
  {
   "cell_type": "markdown",
   "id": "eb077fa5",
   "metadata": {
    "id": "eb077fa5"
   },
   "source": [
    "### 1. prepare data"
   ]
  },
  {
   "cell_type": "markdown",
   "id": "9db1523d",
   "metadata": {
    "id": "9db1523d"
   },
   "source": [
    "In this part, the task would be to prepade our dataset, basically it is the logic table for *XOR* function"
   ]
  },
  {
   "cell_type": "code",
   "execution_count": 2,
   "id": "ba364b07",
   "metadata": {
    "executionInfo": {
     "elapsed": 509,
     "status": "ok",
     "timestamp": 1712130885025,
     "user": {
      "displayName": "Jan Bolcek",
      "userId": "11245949610672084450"
     },
     "user_tz": -120
    },
    "id": "ba364b07"
   },
   "outputs": [],
   "source": [
    "X = [[0, 0], [0, 1], [1, 0], [1, 1]]\n",
    "y = [0, 1, 1, 0]"
   ]
  },
  {
   "cell_type": "markdown",
   "id": "9402720b",
   "metadata": {
    "id": "9402720b"
   },
   "source": [
    "### 2. Creating the model"
   ]
  },
  {
   "cell_type": "markdown",
   "id": "4514e61e",
   "metadata": {
    "id": "4514e61e"
   },
   "source": [
    "To create a model of NN that is in the picture above, run the following cell"
   ]
  },
  {
   "cell_type": "code",
   "execution_count": 3,
   "id": "bd2fcc99",
   "metadata": {
    "executionInfo": {
     "elapsed": 1552,
     "status": "ok",
     "timestamp": 1712130887793,
     "user": {
      "displayName": "Jan Bolcek",
      "userId": "11245949610672084450"
     },
     "user_tz": -120
    },
    "id": "bd2fcc99"
   },
   "outputs": [],
   "source": [
    "model = Sequential()\n",
    "model.add(InputLayer(input_shape=(2)))\n",
    "model.add(Dense(2, activation='sigmoid'))\n",
    "model.add(Dense(1, activation='sigmoid'))"
   ]
  },
  {
   "cell_type": "markdown",
   "id": "c46b3400",
   "metadata": {
    "id": "c46b3400"
   },
   "source": [
    "**Sequential** is a model type used in Keras for building feedforward neural networks. It is called \"sequential\" because the layers are stacked sequentially on top of each other, and the output of one layer is passed as input to the next layer.\n",
    "\n",
    "To create a sequential model, instantiate a Sequential object and then add layers to it using the **add()** method. There are many layers that Keras offers. We will use *Dense layer*\n",
    "\n",
    "**Dense layer** represents a fully connected layer, which means that every neuron in the layer is connected to every neuron in the previous layer. In each layer, we will specify an activation function and the number of neurons that layer contains. The input layer is not defined as a dense layer, but instead of that, we will specify the *input_dim* parameter in the layer that follows the input layer. *input_dim* parameter specifies the number of neurons in the input layer"
   ]
  },
  {
   "cell_type": "markdown",
   "id": "2a69af3f",
   "metadata": {
    "id": "2a69af3f"
   },
   "source": [
    "### 3. Compile the model"
   ]
  },
  {
   "cell_type": "markdown",
   "id": "d1f58fc9",
   "metadata": {
    "id": "d1f58fc9"
   },
   "source": [
    "To compile yor model run:"
   ]
  },
  {
   "cell_type": "code",
   "execution_count": 4,
   "id": "92fd7664",
   "metadata": {
    "executionInfo": {
     "elapsed": 4,
     "status": "ok",
     "timestamp": 1712130888911,
     "user": {
      "displayName": "Jan Bolcek",
      "userId": "11245949610672084450"
     },
     "user_tz": -120
    },
    "id": "92fd7664"
   },
   "outputs": [],
   "source": [
    "optimizer = tf.keras.optimizers.SGD(learning_rate=0.1)\n",
    "model.compile(loss='binary_crossentropy', optimizer=optimizer, metrics=['accuracy'])"
   ]
  },
  {
   "cell_type": "markdown",
   "id": "1824fa06",
   "metadata": {
    "id": "1824fa06"
   },
   "source": [
    "**keras.complile()** is used to configure the learning process before training the model.\n",
    "We need to specify 3 parameters:\n",
    "- *loss*, *optimizer* and *metrics*\n",
    "\n",
    "- as our loss function (error function/objective function), we will choose *binary_crossentropy* - loss function often used for binary classification\n",
    "\n",
    "- *optimizer* is optimization algorithm used for optimizing weights in our training process, we will choose *stochastic gradient descent*\n",
    "\n",
    "- *metrics* is metric user for model evaluation\n"
   ]
  },
  {
   "cell_type": "markdown",
   "id": "9a30b63e",
   "metadata": {
    "id": "9a30b63e"
   },
   "source": [
    "### 4. Model training"
   ]
  },
  {
   "cell_type": "markdown",
   "id": "f90c22e0",
   "metadata": {
    "id": "f90c22e0"
   },
   "source": [
    "In the lecture, we talked about training the Multi-layer perceptron. The training process consists of the following steps:\n",
    "\n",
    "1. Weight initialization\n",
    "2. Forward Propagation\n",
    "3. Compute Loss\n",
    "4. Backpropagation\n",
    "5. Update Weights\n",
    "6. Repeat 2->6 until maximum epochs are reached\n",
    "\n",
    "When training a machine learning model, the training data is usually divided into batches (parts), and the model updates its weights after processing each batch. The batch size determines how many training examples are included in each batch.\n",
    "\n",
    "For example, we have 10,000 training examples and a batch size of 100. In this case, the training data would be divided into 100 batches of 100 examples each. During training, the model would process each batch, calculate the loss or error, and update its weights based on the average of the errors in that batch. In other words, if we batch equal to 1. we will update the weights 10 000 times. If we have batch size == 100, we will update the weights only 100 times"
   ]
  },
  {
   "cell_type": "markdown",
   "id": "84f0cf82",
   "metadata": {
    "id": "84f0cf82"
   },
   "source": [
    "To train your model, run the following line of the code:"
   ]
  },
  {
   "cell_type": "code",
   "execution_count": 5,
   "id": "686ab3bb",
   "metadata": {
    "executionInfo": {
     "elapsed": 80465,
     "status": "ok",
     "timestamp": 1712130972125,
     "user": {
      "displayName": "Jan Bolcek",
      "userId": "11245949610672084450"
     },
     "user_tz": -120
    },
    "id": "686ab3bb"
   },
   "outputs": [],
   "source": [
    "history = model.fit(X, y, epochs=2000, batch_size=1, verbose=0)"
   ]
  },
  {
   "cell_type": "markdown",
   "id": "600018f3",
   "metadata": {
    "id": "600018f3"
   },
   "source": [
    "the method **.fit()**, is used to train the model. We can see that it takes several input parameters:\n",
    " - *X* - input data\n",
    " - *y* - label for the input data\n",
    " - *epochs* number of training epochs (iterations)\n",
    " - *batch_size* - number of samples in each batch\n",
    " - *verbose* - set verbose parameter to see the progress of loss and metrics during the training epochs\n",
    "\n",
    "These are not the only parameters the .fit() method can take. Check official documentation: https://keras.io/api/models/model_training_apis/\n",
    "\n",
    "We will set the output of our .fit() function to variable *history*, where the loss and other metrics defined above in the .compile() function during the training are saved."
   ]
  },
  {
   "cell_type": "markdown",
   "id": "f4b71307",
   "metadata": {
    "id": "f4b71307"
   },
   "source": [
    "### 5. Model evaluation"
   ]
  },
  {
   "cell_type": "markdown",
   "id": "beaa4bb3",
   "metadata": {
    "id": "beaa4bb3"
   },
   "source": [
    "Out training process is finished. To evaluate the performance of our model on test data, tun the following cell of the code:"
   ]
  },
  {
   "cell_type": "code",
   "execution_count": 6,
   "id": "f8963b8b-56bd-4727-bb32-f2aabb6189aa",
   "metadata": {
    "colab": {
     "base_uri": "https://localhost:8080/"
    },
    "executionInfo": {
     "elapsed": 758,
     "status": "ok",
     "timestamp": 1712130980726,
     "user": {
      "displayName": "Jan Bolcek",
      "userId": "11245949610672084450"
     },
     "user_tz": -120
    },
    "id": "f8963b8b-56bd-4727-bb32-f2aabb6189aa",
    "outputId": "b5ae05c7-4ab3-45fb-a542-e33f77cbfdae"
   },
   "outputs": [
    {
     "name": "stdout",
     "output_type": "stream",
     "text": [
      "Accuracy: 100.00\n"
     ]
    }
   ],
   "source": [
    "loss, accuracy = model.evaluate(X, y, verbose=0)\n",
    "print('Accuracy: {:.2f}'.format(accuracy*100))"
   ]
  },
  {
   "cell_type": "markdown",
   "id": "48517bf2-4d26-4512-b959-b0d50ed8bc70",
   "metadata": {
    "id": "48517bf2-4d26-4512-b959-b0d50ed8bc70"
   },
   "source": [
    "### 6. Model predictions"
   ]
  },
  {
   "cell_type": "code",
   "execution_count": 7,
   "id": "6636c6aa-fedc-4ef9-8864-ea929addeb71",
   "metadata": {
    "colab": {
     "base_uri": "https://localhost:8080/"
    },
    "executionInfo": {
     "elapsed": 726,
     "status": "ok",
     "timestamp": 1712130983316,
     "user": {
      "displayName": "Jan Bolcek",
      "userId": "11245949610672084450"
     },
     "user_tz": -120
    },
    "id": "6636c6aa-fedc-4ef9-8864-ea929addeb71",
    "outputId": "ec1aa4ac-df5d-461a-f303-bd7149af1db7"
   },
   "outputs": [
    {
     "name": "stdout",
     "output_type": "stream",
     "text": [
      "1/1 [==============================] - 0s 87ms/step\n",
      "Data sample is [0, 0], prediction from model [[0.01453186]], ground_truth 0\n",
      "1/1 [==============================] - 0s 32ms/step\n",
      "Data sample is [0, 1], prediction from model [[0.98318636]], ground_truth 1\n",
      "1/1 [==============================] - 0s 36ms/step\n",
      "Data sample is [1, 0], prediction from model [[0.98322684]], ground_truth 1\n",
      "1/1 [==============================] - 0s 32ms/step\n",
      "Data sample is [1, 1], prediction from model [[0.02646037]], ground_truth 0\n"
     ]
    }
   ],
   "source": [
    "for id_x, data_sample in enumerate(X):\n",
    "  prediction = model.predict([data_sample])\n",
    "  print(f\"Data sample is {data_sample}, prediction from model {prediction}, ground_truth {y[id_x]}\")"
   ]
  },
  {
   "cell_type": "code",
   "execution_count": 8,
   "id": "50bd86f9-d808-43ac-af51-e665312ad108",
   "metadata": {
    "colab": {
     "base_uri": "https://localhost:8080/",
     "height": 467
    },
    "executionInfo": {
     "elapsed": 843,
     "status": "ok",
     "timestamp": 1712130986595,
     "user": {
      "displayName": "Jan Bolcek",
      "userId": "11245949610672084450"
     },
     "user_tz": -120
    },
    "id": "50bd86f9-d808-43ac-af51-e665312ad108",
    "outputId": "258056ba-a42d-467e-a00a-04d070d5a185"
   },
   "outputs": [
    {
     "data": {
      "text/plain": [
       "Text(0, 0.5, 'loss')"
      ]
     },
     "execution_count": 8,
     "metadata": {},
     "output_type": "execute_result"
    },
    {
     "data": {
      "image/png": "[encoded data removed]",
      "text/plain": [
       "<Figure size 640x480 with 1 Axes>"
      ]
     },
     "metadata": {},
     "output_type": "display_data"
    }
   ],
   "source": [
    "plt.figure()\n",
    "plt.plot(history.history['loss'])\n",
    "plt.xlabel('n epochs')\n",
    "plt.ylabel('loss')"
   ]
  },
  {
   "cell_type": "markdown",
   "id": "ffa6be62-ed89-4801-b297-f1a1211ce297",
   "metadata": {
    "id": "ffa6be62-ed89-4801-b297-f1a1211ce297"
   },
   "source": [
    "## Exercise - Hand-written digits recognition"
   ]
  },
  {
   "cell_type": "markdown",
   "id": "89808395-7ffe-4df1-91e5-f31ce090b932",
   "metadata": {
    "id": "89808395-7ffe-4df1-91e5-f31ce090b932"
   },
   "source": [
    "Create CNN which will process and recognize handwritten digits. For this purposes please use the MNIST database (Modified National Institute of Standards and Technology database) which is a large database of handwritten digits that is commonly used for training various image processing systems.\n",
    "\n",
    "The datasample of the MNIST datasets can be see in the following picture"
   ]
  },
  {
   "cell_type": "markdown",
   "id": "0c65f181-d971-4f0e-ba63-17c242a65d6c",
   "metadata": {
    "id": "0c65f181-d971-4f0e-ba63-17c242a65d6c"
   },
   "source": [
    "### Task description"
   ]
  },
  {
   "cell_type": "markdown",
   "id": "1b6b04cf-eeec-404a-824b-f9aa1d3b7d7a",
   "metadata": {
    "id": "1b6b04cf-eeec-404a-824b-f9aa1d3b7d7a"
   },
   "source": [
    "In the terms of machine learning, the Hand-written digits recognition can be threated as a multi-class classification problem. This is very important knowledge to structure our model in the correct way (Especially the output-layer, including the number of neurons and activations function and the overall loss function and classification metrics)"
   ]
  },
  {
   "cell_type": "markdown",
   "id": "b724de14-3931-4983-b443-7e0106d190dc",
   "metadata": {
    "id": "b724de14-3931-4983-b443-7e0106d190dc"
   },
   "source": [
    "### 0. Import libraries"
   ]
  },
  {
   "cell_type": "markdown",
   "id": "1ffd9b11-f9c1-4b3f-8dd1-cbb18487a075",
   "metadata": {
    "id": "1ffd9b11-f9c1-4b3f-8dd1-cbb18487a075"
   },
   "source": [
    "Import the all necessary libraries, you can get inspired by the previous exercises. You can improst the libraries gradually, when do you progressing with the task"
   ]
  },
  {
   "cell_type": "code",
   "execution_count": 34,
   "id": "1f692dd4-0262-4e7a-b029-69d8280f14d2",
   "metadata": {
    "executionInfo": {
     "elapsed": 617,
     "status": "ok",
     "timestamp": 1712131735036,
     "user": {
      "displayName": "Jan Bolcek",
      "userId": "11245949610672084450"
     },
     "user_tz": -120
    },
    "id": "1f692dd4-0262-4e7a-b029-69d8280f14d2"
   },
   "outputs": [],
   "source": [
    "from tensorflow import keras\n",
    "from keras.models import Sequential\n",
    "from keras.datasets import mnist\n",
    "import numpy as np\n",
    "import matplotlib\n",
    "import matplotlib.pyplot as plt\n",
    "###################################\n",
    "# Write your own code here #\n",
    "\n",
    "from keras.utils import to_categorical\n",
    "from keras.layers import Input, Conv2D, Dense, MaxPooling2D, Flatten\n",
    "from keras.optimizers import SGD\n",
    "\n",
    "\n",
    "###################################\n",
    "font = {'weight' : 'bold',\n",
    "        'size'   : 12}\n",
    "\n",
    "matplotlib.rc('font', **font)"
   ]
  },
  {
   "cell_type": "markdown",
   "id": "9c4af957-fee1-4806-9d68-797d74c332df",
   "metadata": {
    "id": "9c4af957-fee1-4806-9d68-797d74c332df"
   },
   "source": [
    "### 1. Dataset"
   ]
  },
  {
   "cell_type": "markdown",
   "id": "33cf2443-c2ed-4aaa-9b10-fa598a4fb6cb",
   "metadata": {
    "id": "33cf2443-c2ed-4aaa-9b10-fa598a4fb6cb"
   },
   "source": [
    "#### 1.1 Load Dataset"
   ]
  },
  {
   "cell_type": "markdown",
   "id": "dd860d81-ab4d-48d2-a071-e0e8aec8000f",
   "metadata": {
    "id": "dd860d81-ab4d-48d2-a071-e0e8aec8000f"
   },
   "source": [
    "You can load the dataset using the following code"
   ]
  },
  {
   "cell_type": "code",
   "execution_count": 11,
   "id": "1b6f52dc-788b-4481-95f2-c4de31cae037",
   "metadata": {
    "colab": {
     "base_uri": "https://localhost:8080/"
    },
    "executionInfo": {
     "elapsed": 516,
     "status": "ok",
     "timestamp": 1712131107735,
     "user": {
      "displayName": "Jan Bolcek",
      "userId": "11245949610672084450"
     },
     "user_tz": -120
    },
    "id": "1b6f52dc-788b-4481-95f2-c4de31cae037",
    "outputId": "928014c1-cb0e-4b45-f8c8-c9ca2861f8a9"
   },
   "outputs": [
    {
     "name": "stdout",
     "output_type": "stream",
     "text": [
      "Downloading data from https://storage.googleapis.com/tensorflow/tf-keras-datasets/mnist.npz\n",
      "11490434/11490434 [==============================] - 0s 0us/step\n"
     ]
    }
   ],
   "source": [
    "(X_train, y_train), (X_test, y_test) = mnist.load_data()"
   ]
  },
  {
   "cell_type": "markdown",
   "id": "853727ee-5836-4345-84dd-b0135b33e6d3",
   "metadata": {
    "id": "853727ee-5836-4345-84dd-b0135b33e6d3"
   },
   "source": [
    "#### 1.2 Dataset examination"
   ]
  },
  {
   "cell_type": "markdown",
   "id": "93e9f48e-3192-494a-9b0f-e2f66a7c286e",
   "metadata": {
    "id": "93e9f48e-3192-494a-9b0f-e2f66a7c286e"
   },
   "source": [
    "Using the following code, display random images,"
   ]
  },
  {
   "cell_type": "code",
   "execution_count": 12,
   "id": "522d7c5e-f50b-46d0-b79d-799d40ff2f1e",
   "metadata": {
    "executionInfo": {
     "elapsed": 488,
     "status": "ok",
     "timestamp": 1712131111070,
     "user": {
      "displayName": "Jan Bolcek",
      "userId": "11245949610672084450"
     },
     "user_tz": -120
    },
    "id": "522d7c5e-f50b-46d0-b79d-799d40ff2f1e"
   },
   "outputs": [],
   "source": [
    "def display_random_images(x_data: np.array, y_data: np.array, count: int = 10) -> None:\n",
    "  index = np.array(len(x_data))\n",
    "  selected_ind = np.random.choice(index, count)\n",
    "\n",
    "  selected_img = x_data[selected_ind]\n",
    "  selected_labels = y_data[selected_ind]\n",
    "  concat_img = np.concatenate(selected_img, axis=1)\n",
    "\n",
    "  plt.figure(figsize=(20,10))\n",
    "  plt.imshow(concat_img, cmap=\"gray\")\n",
    "\n",
    "  for id_label, label in enumerate(selected_labels):\n",
    "    plt.text(14 + 28*id_label, 28*(5/4), label)\n",
    "  plt.axis('off')\n",
    "  plt.show()"
   ]
  },
  {
   "cell_type": "code",
   "execution_count": 13,
   "id": "452ea9c5-8438-4b10-8a0e-ef0e418ba5a0",
   "metadata": {
    "colab": {
     "base_uri": "https://localhost:8080/",
     "height": 235
    },
    "executionInfo": {
     "elapsed": 6,
     "status": "ok",
     "timestamp": 1712131113204,
     "user": {
      "displayName": "Jan Bolcek",
      "userId": "11245949610672084450"
     },
     "user_tz": -120
    },
    "id": "452ea9c5-8438-4b10-8a0e-ef0e418ba5a0",
    "outputId": "37c10148-5d0f-46ad-f04c-ff08fe563668"
   },
   "outputs": [
    {
     "data": {
      "image/png": "[encoded data removed]",
      "text/plain": [
       "<Figure size 2000x1000 with 1 Axes>"
      ]
     },
     "metadata": {},
     "output_type": "display_data"
    }
   ],
   "source": [
    "display_random_images(X_train, y_train)"
   ]
  },
  {
   "cell_type": "markdown",
   "id": "6c0e3651-3921-4485-bdae-3731afcf03a2",
   "metadata": {
    "id": "6c0e3651-3921-4485-bdae-3731afcf03a2"
   },
   "source": [
    "Examine the dataset. Answer for yourself the following questions:\n",
    "\n",
    "- What kind of data occurs in our dataset?\n",
    "- How many data samples do we have in train and test datasets?\n",
    "- How many colour channels does the input variable have?\n",
    "- What is the size of the input images?\n",
    "- What is the necessary preprocessing of the input data X?\n",
    "- How many classes do we have in target varoable?\n",
    "- What is the necessary preprocessing of target variable y?"
   ]
  },
  {
   "cell_type": "markdown",
   "id": "08273dd4-05d0-4cd8-b989-eca8a4d1328a",
   "metadata": {
    "id": "08273dd4-05d0-4cd8-b989-eca8a4d1328a"
   },
   "source": [
    "#### 1.3 Dataset preprocessing"
   ]
  },
  {
   "cell_type": "markdown",
   "id": "2c16ee55-312f-4ee5-86cd-e09426e16e82",
   "metadata": {
    "id": "2c16ee55-312f-4ee5-86cd-e09426e16e82"
   },
   "source": [
    "Perform the necessary data preprocessing. The best way to preprocess the data would be one hot encoding for the target variable and normalization for the input variable (using min-max or z-score normalization)"
   ]
  },
  {
   "cell_type": "code",
   "execution_count": 14,
   "id": "jSwU8aPp9zPo",
   "metadata": {
    "colab": {
     "base_uri": "https://localhost:8080/"
    },
    "executionInfo": {
     "elapsed": 272,
     "status": "ok",
     "timestamp": 1712131121035,
     "user": {
      "displayName": "Jan Bolcek",
      "userId": "11245949610672084450"
     },
     "user_tz": -120
    },
    "id": "jSwU8aPp9zPo",
    "outputId": "99bf9c3c-d666-401b-aec6-05f47a9679a7"
   },
   "outputs": [
    {
     "data": {
      "text/plain": [
       "(60000, 28, 28)"
      ]
     },
     "execution_count": 14,
     "metadata": {},
     "output_type": "execute_result"
    }
   ],
   "source": [
    "X_train.shape"
   ]
  },
  {
   "cell_type": "code",
   "execution_count": 42,
   "id": "e07697fb-0feb-4df1-8ed2-b7b20f0c015f",
   "metadata": {
    "executionInfo": {
     "elapsed": 627,
     "status": "ok",
     "timestamp": 1712131935859,
     "user": {
      "displayName": "Jan Bolcek",
      "userId": "11245949610672084450"
     },
     "user_tz": -120
    },
    "id": "e07697fb-0feb-4df1-8ed2-b7b20f0c015f"
   },
   "outputs": [],
   "source": [
    "###################################\n",
    "# Write your own code here #\n",
    "\n",
    "X_train_exp = np.expand_dims(X_train, -1)\n",
    "X_test_exp = np.expand_dims(X_test, -1)\n",
    "\n",
    "X_train_scaled = X_train_exp.astype('float32') / 255.0\n",
    "y_train_encoded = to_categorical(y_train, num_classes=10)\n",
    "y_test_encoded = to_categorical(y_test, num_classes=10)\n",
    "\n",
    "\n",
    "###################################"
   ]
  },
  {
   "cell_type": "code",
   "execution_count": 20,
   "id": "_BcAfhBY-w08",
   "metadata": {
    "colab": {
     "base_uri": "https://localhost:8080/"
    },
    "executionInfo": {
     "elapsed": 6,
     "status": "ok",
     "timestamp": 1712131375805,
     "user": {
      "displayName": "Jan Bolcek",
      "userId": "11245949610672084450"
     },
     "user_tz": -120
    },
    "id": "_BcAfhBY-w08",
    "outputId": "e07497f5-1db9-48df-b5a0-4289901b6de6"
   },
   "outputs": [
    {
     "data": {
      "text/plain": [
       "(60000, 28, 28, 1)"
      ]
     },
     "execution_count": 20,
     "metadata": {},
     "output_type": "execute_result"
    }
   ],
   "source": [
    "X_train_exp.shape"
   ]
  },
  {
   "cell_type": "markdown",
   "id": "d20d5fef-cbca-48a2-844f-c9638f0b6bf9",
   "metadata": {
    "id": "d20d5fef-cbca-48a2-844f-c9638f0b6bf9"
   },
   "source": [
    "### 2. Build the model"
   ]
  },
  {
   "cell_type": "markdown",
   "id": "ea554fcf-7acd-4453-b18d-b4982f6a10eb",
   "metadata": {
    "id": "ea554fcf-7acd-4453-b18d-b4982f6a10eb"
   },
   "source": [
    "In this section, your task will be to define the model architecture. The intial structure can be defined as follows:\n",
    "\n",
    "Input_layer -> Convolutional_layer(kernel_size=(3,3), no_channels=32) -> Maxpooling_layer(kernel_size=(2, 2)) -> Flatten_layer -> Dense_layer (num_classes)\n",
    "    \n",
    "    \n"
   ]
  },
  {
   "cell_type": "markdown",
   "id": "0ffd3896-079e-4758-9579-387f33af9691",
   "metadata": {
    "id": "0ffd3896-079e-4758-9579-387f33af9691"
   },
   "source": [
    "#### 2.1 Define the model structure"
   ]
  },
  {
   "cell_type": "code",
   "execution_count": 25,
   "id": "JdW4uHhB-5O2",
   "metadata": {
    "executionInfo": {
     "elapsed": 270,
     "status": "ok",
     "timestamp": 1712131558139,
     "user": {
      "displayName": "Jan Bolcek",
      "userId": "11245949610672084450"
     },
     "user_tz": -120
    },
    "id": "JdW4uHhB-5O2"
   },
   "outputs": [],
   "source": [
    "input_shape = (28, 28, 1)"
   ]
  },
  {
   "cell_type": "code",
   "execution_count": 37,
   "id": "77238bdf-ad74-4246-920d-a1dc28564306",
   "metadata": {
    "executionInfo": {
     "elapsed": 3,
     "status": "ok",
     "timestamp": 1712131836623,
     "user": {
      "displayName": "Jan Bolcek",
      "userId": "11245949610672084450"
     },
     "user_tz": -120
    },
    "id": "77238bdf-ad74-4246-920d-a1dc28564306"
   },
   "outputs": [],
   "source": [
    "model = Sequential()\n",
    "###################################\n",
    "# Write your own code here #\n",
    "\n",
    "model.add(Input(shape=input_shape))\n",
    "model.add(Conv2D(32, kernel_size=(3,3), activation='relu'))\n",
    "model.add(MaxPooling2D(2))\n",
    "model.add(Flatten())\n",
    "model.add(Dense(10, activation='softmax'))\n",
    "\n",
    "\n",
    "###################################\n"
   ]
  },
  {
   "cell_type": "markdown",
   "id": "fde4b3eb-90e1-4724-89df-0db1872560d4",
   "metadata": {
    "id": "fde4b3eb-90e1-4724-89df-0db1872560d4"
   },
   "source": [
    "#### 2.2 Compile the model"
   ]
  },
  {
   "cell_type": "markdown",
   "id": "a467f8fb-8bfc-4cd4-9eee-820c1b9b5a52",
   "metadata": {
    "id": "a467f8fb-8bfc-4cd4-9eee-820c1b9b5a52"
   },
   "source": [
    "Build the model, use the relevant metrics, optimizer and loss function. While choosing the metrics and loss function, consider fact that we are are trying to solve the multiclass classification problem"
   ]
  },
  {
   "cell_type": "code",
   "execution_count": 46,
   "id": "e6d1a924-9e2f-4ca2-b4d6-4724f51ae065",
   "metadata": {
    "colab": {
     "base_uri": "https://localhost:8080/"
    },
    "executionInfo": {
     "elapsed": 490,
     "status": "ok",
     "timestamp": 1712131998694,
     "user": {
      "displayName": "Jan Bolcek",
      "userId": "11245949610672084450"
     },
     "user_tz": -120
    },
    "id": "e6d1a924-9e2f-4ca2-b4d6-4724f51ae065",
    "outputId": "b58cbd80-2812-47a9-9581-73f334e17cb0"
   },
   "outputs": [
    {
     "name": "stdout",
     "output_type": "stream",
     "text": [
      "Model: \"sequential_10\"\n",
      "_________________________________________________________________\n",
      " Layer (type)                Output Shape              Param #   \n",
      "=================================================================\n",
      " conv2d_8 (Conv2D)           (None, 26, 26, 32)        320       \n",
      "                                                                 \n",
      " max_pooling2d_7 (MaxPoolin  (None, 13, 13, 32)        0         \n",
      " g2D)                                                            \n",
      "                                                                 \n",
      " flatten_4 (Flatten)         (None, 5408)              0         \n",
      "                                                                 \n",
      " dense_5 (Dense)             (None, 10)                54090     \n",
      "                                                                 \n",
      "=================================================================\n",
      "Total params: 54410 (212.54 KB)\n",
      "Trainable params: 54410 (212.54 KB)\n",
      "Non-trainable params: 0 (0.00 Byte)\n",
      "_________________________________________________________________\n"
     ]
    }
   ],
   "source": [
    "\n",
    "\n",
    "###################################\n",
    "# Write your own code here #\n",
    "\n",
    "optimizer = SGD(learning_rate = 0.001)\n",
    "model.compile(loss='categorical_crossentropy', optimizer=optimizer, metrics=['accuracy'])\n",
    "\n",
    "\n",
    "###################################\n",
    "model.summary()"
   ]
  },
  {
   "cell_type": "markdown",
   "id": "f146b70f-2e8c-484f-abfd-6fc4a8b8177b",
   "metadata": {
    "id": "f146b70f-2e8c-484f-abfd-6fc4a8b8177b"
   },
   "source": [
    "### 3. Training stage"
   ]
  },
  {
   "cell_type": "markdown",
   "id": "cb1de787-9e40-47e2-bc54-44ccd1864357",
   "metadata": {
    "id": "cb1de787-9e40-47e2-bc54-44ccd1864357"
   },
   "source": [
    "#### 3.1 Model training"
   ]
  },
  {
   "cell_type": "markdown",
   "id": "2b9c7722-aed7-4b2d-a292-572921f0734b",
   "metadata": {
    "id": "2b9c7722-aed7-4b2d-a292-572921f0734b"
   },
   "source": [
    "train your model, define the relevant hyperparameters (no. epochs, batch_size), use 20p of the training data for validation"
   ]
  },
  {
   "cell_type": "code",
   "execution_count": 47,
   "id": "4f858566-601d-4873-ad02-a0635bd8f526",
   "metadata": {
    "colab": {
     "base_uri": "https://localhost:8080/"
    },
    "executionInfo": {
     "elapsed": 42000,
     "status": "ok",
     "timestamp": 1712132049388,
     "user": {
      "displayName": "Jan Bolcek",
      "userId": "11245949610672084450"
     },
     "user_tz": -120
    },
    "id": "4f858566-601d-4873-ad02-a0635bd8f526",
    "outputId": "dd54808a-7bcd-407b-d624-faf59effff83"
   },
   "outputs": [
    {
     "name": "stdout",
     "output_type": "stream",
     "text": [
      "Epoch 1/10\n",
      "750/750 [==============================] - 3s 4ms/step - loss: 1.4059 - accuracy: 0.7551 - val_loss: 1.0009 - val_accuracy: 0.8209\n",
      "Epoch 2/10\n",
      "750/750 [==============================] - 3s 3ms/step - loss: 0.8317 - accuracy: 0.8221 - val_loss: 0.6460 - val_accuracy: 0.8590\n",
      "Epoch 3/10\n",
      "750/750 [==============================] - 3s 4ms/step - loss: 0.6131 - accuracy: 0.8503 - val_loss: 0.5134 - val_accuracy: 0.8711\n",
      "Epoch 4/10\n",
      "750/750 [==============================] - 3s 4ms/step - loss: 0.5188 - accuracy: 0.8652 - val_loss: 0.4487 - val_accuracy: 0.8801\n",
      "Epoch 5/10\n",
      "750/750 [==============================] - 3s 4ms/step - loss: 0.4679 - accuracy: 0.8747 - val_loss: 0.4124 - val_accuracy: 0.8875\n",
      "Epoch 6/10\n",
      "750/750 [==============================] - 3s 4ms/step - loss: 0.4362 - accuracy: 0.8803 - val_loss: 0.3883 - val_accuracy: 0.8931\n",
      "Epoch 7/10\n",
      "750/750 [==============================] - 3s 4ms/step - loss: 0.4145 - accuracy: 0.8839 - val_loss: 0.3715 - val_accuracy: 0.8965\n",
      "Epoch 8/10\n",
      "750/750 [==============================] - 3s 4ms/step - loss: 0.3985 - accuracy: 0.8875 - val_loss: 0.3595 - val_accuracy: 0.8983\n",
      "Epoch 9/10\n",
      "750/750 [==============================] - 3s 4ms/step - loss: 0.3862 - accuracy: 0.8903 - val_loss: 0.3503 - val_accuracy: 0.9014\n",
      "Epoch 10/10\n",
      "750/750 [==============================] - 3s 3ms/step - loss: 0.3765 - accuracy: 0.8923 - val_loss: 0.3428 - val_accuracy: 0.9032\n"
     ]
    }
   ],
   "source": [
    "###################################\n",
    "# Write your own code here #\n",
    "\n",
    "history = model.fit(X_train_scaled, y_train_encoded, epochs=10, batch_size=64, validation_split = 0.2)\n",
    "\n",
    "\n",
    "###################################"
   ]
  },
  {
   "cell_type": "markdown",
   "id": "45651f2d-5cc4-4896-8edc-f58b50fed605",
   "metadata": {
    "id": "45651f2d-5cc4-4896-8edc-f58b50fed605"
   },
   "source": [
    "#### 3.1 Model Evaluation on validation data"
   ]
  },
  {
   "cell_type": "markdown",
   "id": "eb4ea2f2-fcc8-4308-82f6-3dbd5857e989",
   "metadata": {
    "id": "eb4ea2f2-fcc8-4308-82f6-3dbd5857e989"
   },
   "source": [
    "Plot the development of the training and validation loss, and training and validation metrics."
   ]
  },
  {
   "cell_type": "code",
   "execution_count": 48,
   "id": "841d1e30-e448-4b53-b3fc-9b97863391bb",
   "metadata": {
    "colab": {
     "base_uri": "https://localhost:8080/"
    },
    "executionInfo": {
     "elapsed": 1439,
     "status": "ok",
     "timestamp": 1712132058635,
     "user": {
      "displayName": "Jan Bolcek",
      "userId": "11245949610672084450"
     },
     "user_tz": -120
    },
    "id": "841d1e30-e448-4b53-b3fc-9b97863391bb",
    "outputId": "3936103f-011d-4415-aed6-1068ad2cd563"
   },
   "outputs": [
    {
     "name": "stdout",
     "output_type": "stream",
     "text": [
      "Test loss: 40.633766174316406\n",
      "Test accuracy: 90.25999903678894 %\n"
     ]
    }
   ],
   "source": [
    "###################################\n",
    "# Write your own code here #\n",
    "\n",
    "score = model.evaluate(X_test, y_test_encoded, verbose=0)\n",
    "print('Test loss:', score[0])\n",
    "print(f'Test accuracy: {score[1]*100} %')\n",
    "\n",
    "\n",
    "###################################"
   ]
  },
  {
   "cell_type": "markdown",
   "id": "22cd86fb-6b4c-4299-a077-fec0ab62464c",
   "metadata": {
    "id": "22cd86fb-6b4c-4299-a077-fec0ab62464c"
   },
   "source": [
    "### 4. Model evaluation"
   ]
  },
  {
   "cell_type": "markdown",
   "id": "9d93b7ad-3416-451d-8762-968f4cf1dd13",
   "metadata": {
    "id": "9d93b7ad-3416-451d-8762-968f4cf1dd13"
   },
   "source": [
    "Evaluate the model on the testing dataset using the relevant metrics. Use the confusion metrics as the one of the metrics."
   ]
  },
  {
   "cell_type": "code",
   "execution_count": 49,
   "id": "8134b757-aca1-4a0d-a0d2-3a3d0daa8d38",
   "metadata": {
    "colab": {
     "base_uri": "https://localhost:8080/",
     "height": 452
    },
    "executionInfo": {
     "elapsed": 416,
     "status": "ok",
     "timestamp": 1712132061717,
     "user": {
      "displayName": "Jan Bolcek",
      "userId": "11245949610672084450"
     },
     "user_tz": -120
    },
    "id": "8134b757-aca1-4a0d-a0d2-3a3d0daa8d38",
    "outputId": "9f3d92b5-3bb1-4838-985f-656c7799e850"
   },
   "outputs": [
    {
     "data": {
      "text/plain": [
       "[<matplotlib.lines.Line2D at 0x7fd24d27db10>]"
      ]
     },
     "execution_count": 49,
     "metadata": {},
     "output_type": "execute_result"
    },
    {
     "data": {
      "image/png": "[encoded data removed]",
      "text/plain": [
       "<Figure size 640x480 with 1 Axes>"
      ]
     },
     "metadata": {},
     "output_type": "display_data"
    }
   ],
   "source": [
    "###################################\n",
    "# Write your own code here #\n",
    "plt.figure()\n",
    "plt.plot(history.history['loss'])\n",
    "plt.plot(history.history['val_loss'])\n",
    "\n",
    "\n",
    "###################################"
   ]
  },
  {
   "cell_type": "code",
   "execution_count": 50,
   "id": "RSzT04ZvBLyx",
   "metadata": {
    "colab": {
     "base_uri": "https://localhost:8080/",
     "height": 452
    },
    "executionInfo": {
     "elapsed": 541,
     "status": "ok",
     "timestamp": 1712132065122,
     "user": {
      "displayName": "Jan Bolcek",
      "userId": "11245949610672084450"
     },
     "user_tz": -120
    },
    "id": "RSzT04ZvBLyx",
    "outputId": "35369778-03f3-4669-bd60-17cb5a0117a5"
   },
   "outputs": [
    {
     "data": {
      "text/plain": [
       "[<matplotlib.lines.Line2D at 0x7fd24d020af0>]"
      ]
     },
     "execution_count": 50,
     "metadata": {},
     "output_type": "execute_result"
    },
    {
     "data": {
      "image/png": "[encoded data removed]",
      "text/plain": [
       "<Figure size 640x480 with 1 Axes>"
      ]
     },
     "metadata": {},
     "output_type": "display_data"
    }
   ],
   "source": [
    "plt.figure()\n",
    "plt.plot(history.history['accuracy'])\n",
    "plt.plot(history.history['val_accuracy'])"
   ]
  },
  {
   "cell_type": "code",
   "execution_count": null,
   "id": "Ll4TFiPqBMSD",
   "metadata": {
    "id": "Ll4TFiPqBMSD"
   },
   "outputs": [],
   "source": []
  },
  {
   "cell_type": "markdown",
   "id": "44a3f72d-1d76-4d98-9f03-1f8293ed6ad6",
   "metadata": {
    "id": "44a3f72d-1d76-4d98-9f03-1f8293ed6ad6"
   },
   "source": [
    "### TASK\n",
    " - Play around with the code above, try to achieve as highest testing accuracy as possible\n",
    "\n",
    " - Check online for the following terms: Overfitting, Regularization, Dropout, BatchNormalization\n",
    " - Check for other evaluation metrics (Confusion matrix, F1score...)\n",
    " - check for other activation functions\n",
    " - Check for other optimizing algorithms"
   ]
  },
  {
   "cell_type": "code",
   "execution_count": null,
   "id": "f1f4b10b-7487-45f4-8702-267715e4041c",
   "metadata": {
    "id": "f1f4b10b-7487-45f4-8702-267715e4041c"
   },
   "outputs": [],
   "source": []
  }
 ],
 "metadata": {
  "accelerator": "GPU",
  "colab": {
   "gpuType": "T4",
   "provenance": []
  },
  "kernelspec": {
   "display_name": "Python 3 (ipykernel)",
   "language": "python",
   "name": "python3"
  },
  "language_info": {
   "codemirror_mode": {
    "name": "ipython",
    "version": 3
   },
   "file_extension": ".py",
   "mimetype": "text/x-python",
   "name": "python",
   "nbconvert_exporter": "python",
   "pygments_lexer": "ipython3",
   "version": "3.10.12"
  }
 },
 "nbformat": 4,
 "nbformat_minor": 5
}
